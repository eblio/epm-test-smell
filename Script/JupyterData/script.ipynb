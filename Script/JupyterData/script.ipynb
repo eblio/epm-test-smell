{
 "cells": [
  {
   "cell_type": "code",
   "execution_count": 1,
   "id": "bdcb02e7-c37c-4fa5-b72e-10f297fa7717",
   "metadata": {},
   "outputs": [
    {
     "name": "stdout",
     "output_type": "stream",
     "text": [
      "Requirement already satisfied: pydriller in /opt/conda/lib/python3.9/site-packages (2.0)\n",
      "Requirement already satisfied: gitpython in /opt/conda/lib/python3.9/site-packages (from pydriller) (3.1.24)\n",
      "Requirement already satisfied: lizard in /opt/conda/lib/python3.9/site-packages (from pydriller) (1.17.9)\n",
      "Requirement already satisfied: pytz in /opt/conda/lib/python3.9/site-packages (from pydriller) (2021.1)\n",
      "Requirement already satisfied: typing-extensions>=3.7.4.3 in /opt/conda/lib/python3.9/site-packages (from gitpython->pydriller) (3.10.0.0)\n",
      "Requirement already satisfied: gitdb<5,>=4.0.1 in /opt/conda/lib/python3.9/site-packages (from gitpython->pydriller) (4.0.7)\n",
      "Requirement already satisfied: smmap<5,>=3.0.1 in /opt/conda/lib/python3.9/site-packages (from gitdb<5,>=4.0.1->gitpython->pydriller) (4.0.0)\n"
     ]
    }
   ],
   "source": [
    "#Install packages\n",
    "!pip install pydriller"
   ]
  },
  {
   "cell_type": "code",
   "execution_count": 2,
   "id": "6dec4ae6-e3e2-4a99-b81e-a1af016c3dc1",
   "metadata": {},
   "outputs": [],
   "source": [
    "#Import Repository\n",
    "from pydriller import Repository\n",
    "from datetime import datetime"
   ]
  },
  {
   "cell_type": "code",
   "execution_count": 3,
   "id": "68b099dc-aadd-4bfc-a714-c42b5b26a4f2",
   "metadata": {},
   "outputs": [],
   "source": [
    "#Extracts repo url\n",
    "with open('repo.txt') as f:\n",
    "    url = [x.rstrip() for x in f.readlines()]"
   ]
  },
  {
   "cell_type": "code",
   "execution_count": 4,
   "id": "eb6a5139-8e71-425e-ac6e-bde37c165959",
   "metadata": {},
   "outputs": [],
   "source": [
    "#Extract project name from project url\n",
    "def get_project_name(repo_url):\n",
    "    return os.path.basename(repo_url[:-4])"
   ]
  },
  {
   "cell_type": "code",
   "execution_count": 5,
   "id": "78630190-634b-45a7-a039-659c57422dd4",
   "metadata": {},
   "outputs": [],
   "source": [
    "import subprocess\n",
    "import os\n",
    "import shutil\n",
    "\n",
    "def extract_commits(repo_url, clean_up = True):\n",
    "    start_time = datetime.now()\n",
    "    project_info = dict()\n",
    "    project_name = get_project_name(repo_url)\n",
    "    #Clone repo if needed\n",
    "    print(\"Cloning repository {}\".format(project_name))\n",
    "    if not os.path.isdir(project_name):\n",
    "        subprocess.run([\"git\",\"clone\", repo_url])\n",
    "    \n",
    "    print(\"Creating repository object {}\".format(project_name))\n",
    "    repo = Repository(repo_url, \n",
    "                      only_modifications_with_file_types = \".java\",\n",
    "                      since=datetime(2021, 1, 1))\n",
    "    \n",
    "    print(\"Start commit analysis\")\n",
    "    for commit in repo.traverse_commits():\n",
    "        commit_diff = dict()\n",
    "        for modified_file in commit.modified_files:\n",
    "            #No added modifications\n",
    "            if not modified_file.filename.endswith(\".java\") or not modified_file.diff_parsed['added']:\n",
    "                continue\n",
    "            \n",
    "            #Store file modfications\n",
    "            commit_diff[modified_file.filename] = modified_file.diff_parsed['added']\n",
    "        #Store commit modifications\n",
    "        if commit_diff:\n",
    "            project_info[str(commit.hash)] = commit_diff\n",
    "    if clean_up:\n",
    "        shutil.rmtree(project_name)\n",
    "    print('Time elapsed (hh:mm:ss.ms) {}'.format(datetime.now() - start_time))\n",
    "    return project_info\n",
    "\n",
    "\n",
    "        "
   ]
  },
  {
   "cell_type": "code",
   "execution_count": 6,
   "id": "f7d8baa4-2f02-4b07-bdaf-96a733baeff0",
   "metadata": {},
   "outputs": [],
   "source": [
    "def extract_projects(url):\n",
    "    projects = dict()\n",
    "    for repo_url in url:\n",
    "        project_name = get_project_name(repo_url)\n",
    "        projects[project_name] = extract_commits(repo_url)\n",
    "        print(\"{} analysis complete\".format(project_name))\n",
    "    return projects"
   ]
  },
  {
   "cell_type": "code",
   "execution_count": 7,
   "id": "168e9b08-c8c7-4670-9775-5ad825a2e63f",
   "metadata": {},
   "outputs": [
    {
     "name": "stdout",
     "output_type": "stream",
     "text": [
      "Cloning repository Java\n"
     ]
    },
    {
     "name": "stderr",
     "output_type": "stream",
     "text": [
      "Cloning into 'Java'...\n"
     ]
    },
    {
     "name": "stdout",
     "output_type": "stream",
     "text": [
      "Creating repository object Java\n",
      "Start commit analysis\n",
      "Time elapsed (hh:mm:ss.ms) 0:00:02.313963\n",
      "Java analysis complete\n",
      "Cloning repository elasticsearch\n"
     ]
    },
    {
     "name": "stderr",
     "output_type": "stream",
     "text": [
      "Cloning into 'elasticsearch'...\n",
      "Updating files: 100% (22750/22750), done.\n"
     ]
    },
    {
     "name": "stdout",
     "output_type": "stream",
     "text": [
      "Creating repository object elasticsearch\n",
      "Start commit analysis\n",
      "Time elapsed (hh:mm:ss.ms) 0:08:36.028335\n",
      "elasticsearch analysis complete\n"
     ]
    }
   ],
   "source": [
    "import json\n",
    "p = extract_projects(url)\n",
    "file = 'data.json'\n",
    "os.remove(file)\n",
    "with open(file, \"w\") as f:\n",
    "  json.dump(p, f, indent = 6)\n"
   ]
  },
  {
   "cell_type": "markdown",
   "id": "62791fe7-639a-43a3-a1da-9b72153b252c",
   "metadata": {},
   "source": [
    "# Pipeline 3.1 du paper\n",
    "## Obtenir les repos\n",
    "* Sortir une liste des repo git\n",
    "\n",
    "## PyDriller\n",
    "* Cloner\n",
    "* Extraire un certains nombre de commit\n",
    "* On veut la structure suivante: Repo -> commit -> file\n",
    "* Utiliser TestFileDetector pour valider que le fichier est un test\n",
    "* Associer le fichier de test au fichier de production avec TestFileMapping\n",
    "* Conserver les changements dans un JSON"
   ]
  },
  {
   "cell_type": "code",
   "execution_count": null,
   "id": "56b2625c-c0f8-4a0e-98af-488e048cca5b",
   "metadata": {},
   "outputs": [],
   "source": []
  }
 ],
 "metadata": {
  "kernelspec": {
   "display_name": "Python 3 (ipykernel)",
   "language": "python",
   "name": "python3"
  },
  "language_info": {
   "codemirror_mode": {
    "name": "ipython",
    "version": 3
   },
   "file_extension": ".py",
   "mimetype": "text/x-python",
   "name": "python",
   "nbconvert_exporter": "python",
   "pygments_lexer": "ipython3",
   "version": "3.9.6"
  }
 },
 "nbformat": 4,
 "nbformat_minor": 5
}
